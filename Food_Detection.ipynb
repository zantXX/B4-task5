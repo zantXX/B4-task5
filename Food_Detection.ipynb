{
 "cells": [
  {
   "cell_type": "markdown",
   "metadata": {},
   "source": [
    "https://arxiv.org/abs/1711.05128\n",
    "【dataset】<br>\n",
    "/export/data/dataset/UECFOOD/UECFOOD100/*/*.jpg <br>\n",
    "/export/data/dataset/UECFOOD/UECFOOD100/*/bb_info.txt <br>\n",
    "/export/data/dataset/UECFOOD/UECFOOD256/*/*.jpg <br>\n",
    "/export/data/dataset/UECFOOD/UECFOOD256/*/bb_info.txt <br>\n",
    "<br>\n",
    "\n",
    "【model】<br>\n",
    "fine-turing from https://pytorch.org/tutorials/intermediate/torchvision_tutorial.html<br>\n",
    "//Yanai lab or general code?? https://github.com/Prakhar998/food-101 skip<br>\n",
    "SOTA in Survey(reproduced) https://github.com/aurotripathy/food-classify <br>"
   ]
  }
 ],
 "metadata": {
  "kernelspec": {
   "display_name": "Python 3",
   "language": "python",
   "name": "python3"
  },
  "language_info": {
   "codemirror_mode": {
    "name": "ipython",
    "version": 3
   },
   "file_extension": ".py",
   "mimetype": "text/x-python",
   "name": "python",
   "nbconvert_exporter": "python",
   "pygments_lexer": "ipython3",
   "version": "3.7.6"
  }
 },
 "nbformat": 4,
 "nbformat_minor": 4
}
